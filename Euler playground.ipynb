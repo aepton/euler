{
 "cells": [
  {
   "cell_type": "code",
   "execution_count": 99,
   "metadata": {
    "collapsed": false
   },
   "outputs": [
    {
     "name": "stdout",
     "output_type": "stream",
     "text": [
      "True\n",
      "False\n",
      "False\n"
     ]
    }
   ],
   "source": [
    "# Method from http://stackoverflow.com/a/27946768/7027687\n",
    "\n",
    "from itertools import count, islice\n",
    "\n",
    "def is_prime(n):\n",
    "    # Smallest prime is 2\n",
    "    if n < 2:\n",
    "        return False\n",
    "    \n",
    "    # Only need to check up to sqrt(n), which == n^0.5, to determine primality\n",
    "    # This is slow for large primes, but we're guaranteed to see at worst\n",
    "    # 1,000,000 (i.e. sqrt(999999999999))\n",
    "    # Using n^0.5 insted of sqrt(n) is just convenience to avoid importing another\n",
    "    # library\n",
    "    for num in islice(count(2), int(pow(n, 0.5) - 1)):\n",
    "        if not n % num:\n",
    "            return False\n",
    "    return True\n",
    "\n",
    "print is_prime(3)\n",
    "print is_prime(400)\n",
    "print is_prime(999999999997)"
   ]
  },
  {
   "cell_type": "code",
   "execution_count": 100,
   "metadata": {
    "collapsed": false
   },
   "outputs": [
    {
     "name": "stdout",
     "output_type": "stream",
     "text": [
      "718\n"
     ]
    }
   ],
   "source": [
    "# Method from http://stackoverflow.com/a/23442813/7027687\n",
    "\n",
    "from decimal import Decimal, getcontext\n",
    "\n",
    "def expand_euler(num_places):\n",
    "    # Set precision to number of places we're computing\n",
    "    # (+1 to account for leading \"2.\")\n",
    "    getcontext().prec = num_places + 1\n",
    "\n",
    "    e = Decimal(0)\n",
    "    f = Decimal(1)\n",
    "    n = Decimal(1)\n",
    "\n",
    "    while True:\n",
    "        prev_e = e\n",
    "        e += Decimal(1) / f\n",
    "\n",
    "        # If there's no change, we've reached maximal precision; stop.\n",
    "        if e == prev_e:\n",
    "            break\n",
    "\n",
    "        f *= n\n",
    "        n += Decimal(1)\n",
    "    return str(e)\n",
    "\n",
    "print expand_euler(3)[2:]"
   ]
  },
  {
   "cell_type": "code",
   "execution_count": 126,
   "metadata": {
    "collapsed": false
   },
   "outputs": [
    {
     "name": "stdout",
     "output_type": "stream",
     "text": [
      "Error with x: 4, y: 5, result: 24977, count_the_two: True\n",
      "Found 24709\n",
      "Found true answer - 2th prime: {'prime': '24977', 'position': 33}\n",
      "\n",
      "\n",
      "\n",
      "Error with x: 6, y: 10, result: 1063686487, count_the_two: True\n",
      "Found 1573834187\n",
      "\n",
      "\n",
      "Error with x: 3, y: 5, result: 62497, count_the_two: True\n",
      "Found 24977\n",
      "Found true answer - 1th prime: {'prime': '62497', 'position': 32}\n",
      "\n",
      "\n",
      "\n",
      "Error with x: 5, y: 11, result: 36864870169, count_the_two: True\n",
      "Found 33829880753\n",
      "\n",
      "\n",
      "Error with x: 5, y: 13, result: 7099983170353, count_the_two: True\n",
      "Found 3232862794349\n",
      "\n",
      "\n",
      "Error with x: 6, y: 12, result: 82449550453, count_the_two: True\n",
      "Found 157383418793\n",
      "Could only find 23 matches\n",
      "\n",
      "\n"
     ]
    }
   ],
   "source": [
    "def find_xth_prime_of_y_digits(x, y, count_the_two):\n",
    "    # Turns out, 1000 places is enough to find 23 12-digit primes, so that should be enough\n",
    "    # Computing the first 1000 is fast enough that we can just do it. Obvious optimization\n",
    "    # would be to base the size of the search space on the number of digits in the prime we're\n",
    "    # looking for.\n",
    "    num_places = 1000\n",
    "\n",
    "    if not count_the_two:\n",
    "        digits = expand_euler(num_places)[2:] # Just want to search after decimal\n",
    "    else:\n",
    "        digits = expand_euler(num_places).replace('.', '')\n",
    "\n",
    "    matches = []\n",
    "    begin = 0\n",
    "    end = y\n",
    "    comparisons = 0\n",
    "\n",
    "    while y < len(digits) + 1:\n",
    "        # Pick the candidate number\n",
    "        window = digits[begin:end]\n",
    "        \n",
    "        # If length < y, we didn't pick enough digits in our search space.\n",
    "        # This would be where we expand search space if we needed to, but\n",
    "        # as above, for this specific problem that seems unnecessary.\n",
    "        if len(window) < y:\n",
    "            print 'Could only find %d matches' % len(matches)\n",
    "            return matches\n",
    "\n",
    "        if window.startswith('0'):\n",
    "            begin += 1\n",
    "            end += 1\n",
    "            continue\n",
    "        comparisons += 1\n",
    "        if is_prime(int(window)):\n",
    "            # Yay, we found a match. Create a results object for future display.\n",
    "            matches.append({\n",
    "                'prime': window,\n",
    "                'position': begin\n",
    "            })\n",
    "        if len(matches) == x:\n",
    "            return matches\n",
    "        begin += 1\n",
    "        end += 1\n",
    "\n",
    "tests = [\n",
    "    (3, 3, 353, 523),\n",
    "    (4, 5, 24709, 24977),\n",
    "    # 24977 is the 3rd, not 4th, 5-digit prime\n",
    "    (3, 2, 23, 23),\n",
    "    (1, 4, 4523, 4523),\n",
    "    #(3, 20, -1, -1),\n",
    "    (5, 6, 995957, 995957),\n",
    "    (9, 6, 594571, 594571),\n",
    "    (6, 10, 1573834187, 1063686487),\n",
    "    # 1063686487 doesn't appear in first 1000 digits\n",
    "    (4, 1, 5, 2),\n",
    "    (3, 5, 24977, 62497),\n",
    "    # 62497 is the 2nd, not 3rd, 5-digit prime\n",
    "    (2, 7, 2497757, 6028747),\n",
    "    (8, 3, 277, 967),\n",
    "    (5, 11, 33829880753, 36864870169),\n",
    "    # 36864870169 doesn't appear in first 1000 digits\n",
    "    (5, 13, 3232862794349, 7099983170353),\n",
    "    # 7099983170353 doesn't appear in first 1000 digits\n",
    "    (6, 12, 157383418793, 82449550453),\n",
    "    # 82449550453 doesn't appear in first 1000 digits\n",
    "    (7, 6, 630353, 630353)\n",
    "]\n",
    "\n",
    "for test in tests:\n",
    "    for case in [(test[0], test[1], test[2], False), (test[0], test[1], test[3], True)]:\n",
    "        result = find_xth_prime_of_y_digits(case[0], case[1], case[3])\n",
    "        if int(result[-1]['prime']) != case[2]:\n",
    "            print 'Error with x: %d, y: %d, result: %d, count_the_two: %s' % (case[0], case[1], case[2], case[3])\n",
    "            print 'Found %d' % int(result[-1]['prime'])\n",
    "            candidates = find_xth_prime_of_y_digits(case[0] + 25, case[1], case[3])\n",
    "            \n",
    "            for idx, candidate in enumerate(candidates):\n",
    "                if int(candidate['prime']) == case[2]:\n",
    "                    found = True\n",
    "                    print 'Found true answer - %sth prime: %s\\n' % (idx, candidate)\n",
    "            print '\\n'"
   ]
  }
 ],
 "metadata": {
  "kernelspec": {
   "display_name": "Python 2",
   "language": "python",
   "name": "python2"
  },
  "language_info": {
   "codemirror_mode": {
    "name": "ipython",
    "version": 2
   },
   "file_extension": ".py",
   "mimetype": "text/x-python",
   "name": "python",
   "nbconvert_exporter": "python",
   "pygments_lexer": "ipython2",
   "version": "2.7.12"
  }
 },
 "nbformat": 4,
 "nbformat_minor": 0
}
